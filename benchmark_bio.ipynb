{
 "cells": [
  {
   "cell_type": "code",
   "execution_count": 1,
   "id": "a2d9b354-da25-45d8-a5e5-16bd602b1e80",
   "metadata": {},
   "outputs": [],
   "source": [
    "from Bio import SeqIO\n",
    "import pandas as pd\n",
    "import timeit"
   ]
  },
  {
   "cell_type": "code",
   "execution_count": 2,
   "id": "c5d8e242-8402-4972-9e7e-775d7b3910ba",
   "metadata": {},
   "outputs": [],
   "source": [
    "def count_kmers_py(fasta_file, k=4):\n",
    "    records = list(SeqIO.parse(fasta_file, \"fasta\"))\n",
    "    counts = {}\n",
    "    for rec in records:\n",
    "        seq = str(rec.seq)\n",
    "        for i in range(len(seq) - k + 1):\n",
    "            kmer = seq[i:i+k]\n",
    "            counts[kmer] = counts.get(kmer, 0) + 1\n",
    "    # Convert to DataFrame\n",
    "    df = pd.DataFrame(\n",
    "        [(kmer, cnt) for kmer, cnt in counts.items()],\n",
    "        columns=[\"kmer\", \"count\"]\n",
    "    )\n",
    "    return df"
   ]
  },
  {
   "cell_type": "code",
   "execution_count": 3,
   "id": "18a434ad-e395-4b27-a06e-8f055d2a957a",
   "metadata": {},
   "outputs": [
    {
     "name": "stdout",
     "output_type": "stream",
     "text": [
      "Python timings (s): [0.040463400073349476, 0.00954600004479289, 0.019007799914106727, 0.021897200029343367, 0.023039599880576134]\n"
     ]
    }
   ],
   "source": [
    "# Benchmarking\n",
    "setup = \"from __main__ import count_kmers_py\"\n",
    "stmt = \"count_kmers_py('sequence.fasta', k=4)\"\n",
    "times = timeit.repeat(stmt=stmt, setup=setup, repeat=5, number=1)\n",
    "print(\"Python timings (s):\", times)"
   ]
  },
  {
   "cell_type": "code",
   "execution_count": null,
   "id": "89104163-c625-43ad-abd9-3a29d5b017be",
   "metadata": {},
   "outputs": [],
   "source": []
  }
 ],
 "metadata": {
  "kernelspec": {
   "display_name": "Python 3 (ipykernel)",
   "language": "python",
   "name": "python3"
  },
  "language_info": {
   "codemirror_mode": {
    "name": "ipython",
    "version": 3
   },
   "file_extension": ".py",
   "mimetype": "text/x-python",
   "name": "python",
   "nbconvert_exporter": "python",
   "pygments_lexer": "ipython3",
   "version": "3.12.3"
  }
 },
 "nbformat": 4,
 "nbformat_minor": 5
}
